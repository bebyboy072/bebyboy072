{
  "cells": [
    {
      "cell_type": "markdown",
      "metadata": {
        "id": "WjHfOy7796Fc"
      },
      "source": [
        "# 0. Import"
      ]
    },
    {
      "cell_type": "code",
      "execution_count": null,
      "metadata": {
        "id": "vG4Q7A_x96Fe"
      },
      "outputs": [],
      "source": [
        "import torch\n",
        "from torch import tensor"
      ]
    },
    {
      "cell_type": "markdown",
      "metadata": {
        "id": "bGXOPF7796Ff"
      },
      "source": [
        "# 1. Element-wise operations"
      ]
    },
    {
      "cell_type": "markdown",
      "metadata": {
        "id": "u3JVia7a96Ff"
      },
      "source": [
        "Element-wise Operations หมายถึง ทำ Operations แยกคนละตัวเรียงตามตำแหน่ง ตัวแรกทำกับตัวแรก ตัวที่สองทำกับตัวที่สอง ... โดยอาจจะทำไปพร้อม ๆ กัน ทำขนานกันไปก็ได้"
      ]
    },
    {
      "cell_type": "markdown",
      "metadata": {
        "id": "HxkWqMGS96Fg"
      },
      "source": [
        "## 1.1 Basic operations"
      ]
    },
    {
      "cell_type": "code",
      "execution_count": null,
      "metadata": {
        "id": "azx1PiM596Fg"
      },
      "outputs": [],
      "source": [
        "a = tensor([1., 2., 3., 4.])"
      ]
    },
    {
      "cell_type": "markdown",
      "metadata": {
        "id": "xnNZMbLT96Fg"
      },
      "source": [
        "บวก ลบ คูณ หาร ยกกำลัง กับ ตัวเลขธรรมดา ใส่ . จุด หลังตัวเลข หมายถึง ให้เป็นเลขแบบ Float จุดทศนิยม รองรับการคำนวนคณิตศาสตร์ เช่น 1. เหมือนกับ 1.0"
      ]
    },
    {
      "cell_type": "code",
      "execution_count": null,
      "metadata": {
        "id": "uf9X9CgH96Fh",
        "outputId": "f528db2c-3b5c-4aeb-feef-16c0cfb75c97"
      },
      "outputs": [
        {
          "data": {
            "text/plain": [
              "tensor([2., 3., 4., 5.])"
            ]
          },
          "execution_count": 4,
          "metadata": {},
          "output_type": "execute_result"
        }
      ],
      "source": [
        "a + 1"
      ]
    },
    {
      "cell_type": "code",
      "execution_count": null,
      "metadata": {
        "id": "iqUY8f9X96Fi",
        "outputId": "0b73d50c-4ce3-42ac-d25f-5f8afb2ef7ef"
      },
      "outputs": [
        {
          "data": {
            "text/plain": [
              "tensor([ 2.,  4.,  8., 16.])"
            ]
          },
          "execution_count": 5,
          "metadata": {},
          "output_type": "execute_result"
        }
      ],
      "source": [
        "2**a"
      ]
    },
    {
      "cell_type": "markdown",
      "metadata": {
        "id": "ff3FV5-m96Fi"
      },
      "source": [
        "บวก ลบ คูณ หาร ยกกำลัง กับ tensor ด้วยกัน"
      ]
    },
    {
      "cell_type": "code",
      "execution_count": null,
      "metadata": {
        "id": "VWV47PN-96Fi",
        "outputId": "f6b1ff8b-80b2-4c61-9496-b5449a8e9854"
      },
      "outputs": [
        {
          "data": {
            "text/plain": [
              "tensor([2., 2., 2., 2.])"
            ]
          },
          "execution_count": 6,
          "metadata": {},
          "output_type": "execute_result"
        }
      ],
      "source": [
        "b = torch.ones(4) + 1\n",
        "b"
      ]
    },
    {
      "cell_type": "code",
      "execution_count": null,
      "metadata": {
        "id": "36Aeps7Q96Fj",
        "outputId": "f673abb4-db0d-47e8-85af-a4100a597235"
      },
      "outputs": [
        {
          "data": {
            "text/plain": [
              "tensor([-1.,  0.,  1.,  2.])"
            ]
          },
          "execution_count": 7,
          "metadata": {},
          "output_type": "execute_result"
        }
      ],
      "source": [
        "a - b"
      ]
    },
    {
      "cell_type": "code",
      "execution_count": null,
      "metadata": {
        "id": "FERJYxjU96Fj",
        "outputId": "51cb089c-9936-453f-fc23-192f125e59b3"
      },
      "outputs": [
        {
          "data": {
            "text/plain": [
              "tensor([2., 4., 6., 8.])"
            ]
          },
          "execution_count": 8,
          "metadata": {},
          "output_type": "execute_result"
        }
      ],
      "source": [
        "a * b"
      ]
    },
    {
      "cell_type": "code",
      "execution_count": null,
      "metadata": {
        "id": "cisO0xol96Fj",
        "outputId": "be2bd9db-36ea-4d27-a049-138610783683"
      },
      "outputs": [
        {
          "data": {
            "text/plain": [
              "tensor([0, 1, 2, 3, 4])"
            ]
          },
          "execution_count": 9,
          "metadata": {},
          "output_type": "execute_result"
        }
      ],
      "source": [
        "j = torch.arange(5)\n",
        "j"
      ]
    },
    {
      "cell_type": "code",
      "execution_count": null,
      "metadata": {
        "id": "DPUI99am96Fj",
        "outputId": "430646cf-a579-4d1c-9267-15d5a35e7403"
      },
      "outputs": [
        {
          "data": {
            "text/plain": [
              "tensor([ 2,  3,  6, 13, 28])"
            ]
          },
          "execution_count": 10,
          "metadata": {},
          "output_type": "execute_result"
        }
      ],
      "source": [
        "2**(j + 1) - j"
      ]
    },
    {
      "cell_type": "markdown",
      "metadata": {
        "id": "gstPXlRf96Fk"
      },
      "source": [
        "## 1.2 เปรียบเทียบความเร็ว"
      ]
    },
    {
      "cell_type": "markdown",
      "metadata": {
        "id": "UYCzNq0D96Fk"
      },
      "source": [
        "Tensor"
      ]
    },
    {
      "cell_type": "code",
      "execution_count": null,
      "metadata": {
        "scrolled": true,
        "id": "pIfNYydh96Fk",
        "outputId": "9c4c35ce-ae7d-4b5d-c73d-61a5f647cae6"
      },
      "outputs": [
        {
          "name": "stdout",
          "output_type": "stream",
          "text": [
            "14.7 µs ± 174 ns per loop (mean ± std. dev. of 7 runs, 100000 loops each)\n"
          ]
        }
      ],
      "source": [
        "a = torch.arange(10000)\n",
        "%timeit a + 1"
      ]
    },
    {
      "cell_type": "markdown",
      "metadata": {
        "id": "wQUH5CcB96Fk"
      },
      "source": [
        "วน loop array"
      ]
    },
    {
      "cell_type": "code",
      "execution_count": null,
      "metadata": {
        "id": "4spyc5mn96Fl",
        "outputId": "4ffa7ec5-f85e-48c3-e914-87a47595a5b0"
      },
      "outputs": [
        {
          "name": "stdout",
          "output_type": "stream",
          "text": [
            "614 µs ± 2.28 µs per loop (mean ± std. dev. of 7 runs, 1000 loops each)\n"
          ]
        }
      ],
      "source": [
        "l = range(10000)\n",
        "%timeit [i+1 for i in l]"
      ]
    },
    {
      "cell_type": "markdown",
      "metadata": {
        "id": "i0KdkV8E96Fl"
      },
      "source": [
        "tensor เร็วกว่าประมาณเกือบ 40 เท่า เนื่องจากเป็นการประมวลผลแบบขนาน ไม่ได้ทำทีละ item เรียงไปเรื่อย ๆ"
      ]
    },
    {
      "cell_type": "markdown",
      "metadata": {
        "id": "bMSYrEvK96Fl"
      },
      "source": [
        "## 1.3 Multiplication"
      ]
    },
    {
      "cell_type": "code",
      "execution_count": null,
      "metadata": {
        "id": "kEkGThnX96Fl",
        "outputId": "98e02ecb-6b3e-49b8-c121-a3444c0e45c8"
      },
      "outputs": [
        {
          "data": {
            "text/plain": [
              "tensor([[1., 1., 1.],\n",
              "        [1., 1., 1.],\n",
              "        [1., 1., 1.]])"
            ]
          },
          "execution_count": 13,
          "metadata": {},
          "output_type": "execute_result"
        }
      ],
      "source": [
        "c = torch.ones((3, 3))\n",
        "c"
      ]
    },
    {
      "cell_type": "markdown",
      "metadata": {
        "id": "ZO3Dhdic96Fl"
      },
      "source": [
        "คูณแบบปกติ จะเป็น คูณแบบ element-wise ไม่ได้คูณแบบ matrix"
      ]
    },
    {
      "cell_type": "code",
      "execution_count": null,
      "metadata": {
        "id": "h77teIPs96Fm",
        "outputId": "968ca311-0069-41fb-ebdd-0bbb3f04afab"
      },
      "outputs": [
        {
          "data": {
            "text/plain": [
              "tensor([[1., 1., 1.],\n",
              "        [1., 1., 1.],\n",
              "        [1., 1., 1.]])"
            ]
          },
          "execution_count": 14,
          "metadata": {},
          "output_type": "execute_result"
        }
      ],
      "source": [
        "c * c"
      ]
    },
    {
      "cell_type": "markdown",
      "metadata": {
        "id": "_tZmGIyl96Fm"
      },
      "source": [
        "คูณแบบ matrix dot product"
      ]
    },
    {
      "cell_type": "code",
      "execution_count": null,
      "metadata": {
        "id": "BNggjf1Z96Fm",
        "outputId": "bfde0f64-fde2-465a-f9bf-2b750add1373"
      },
      "outputs": [
        {
          "data": {
            "text/plain": [
              "tensor([[3., 3., 3.],\n",
              "        [3., 3., 3.],\n",
              "        [3., 3., 3.]])"
            ]
          },
          "execution_count": 15,
          "metadata": {},
          "output_type": "execute_result"
        }
      ],
      "source": [
        "c.matmul(c)"
      ]
    },
    {
      "cell_type": "markdown",
      "metadata": {
        "id": "rMC8x4O596Fm"
      },
      "source": [
        "## 1.4 Comparison Operations"
      ]
    },
    {
      "cell_type": "markdown",
      "metadata": {
        "id": "11NfEF1x96Fm"
      },
      "source": [
        "Operation เปรียบเทียบ ก็ element-wise"
      ]
    },
    {
      "cell_type": "code",
      "execution_count": null,
      "metadata": {
        "id": "R3ziAVF396Fn"
      },
      "outputs": [],
      "source": [
        "a = tensor([1, 2, 3, 4])\n",
        "b = tensor([4, 2, 2, 4])"
      ]
    },
    {
      "cell_type": "markdown",
      "metadata": {
        "id": "qo8uIgoX96Fn"
      },
      "source": [
        "1 คือ True, 0 คือ False"
      ]
    },
    {
      "cell_type": "code",
      "execution_count": null,
      "metadata": {
        "id": "FuwcUNmi96Fn",
        "outputId": "160810e8-9a67-4c9e-c2c3-95ac172c1510"
      },
      "outputs": [
        {
          "data": {
            "text/plain": [
              "tensor([0, 1, 0, 1], dtype=torch.uint8)"
            ]
          },
          "execution_count": 17,
          "metadata": {},
          "output_type": "execute_result"
        }
      ],
      "source": [
        "a == b"
      ]
    },
    {
      "cell_type": "code",
      "execution_count": null,
      "metadata": {
        "id": "cN96J2w196Fn",
        "outputId": "943b7e1b-7d75-43ee-972b-d705c7aaefaf"
      },
      "outputs": [
        {
          "data": {
            "text/plain": [
              "tensor([0, 0, 1, 0], dtype=torch.uint8)"
            ]
          },
          "execution_count": 18,
          "metadata": {},
          "output_type": "execute_result"
        }
      ],
      "source": [
        "a > b"
      ]
    },
    {
      "cell_type": "markdown",
      "metadata": {
        "id": "BDZijzwi96Fn"
      },
      "source": [
        "## 1.5 Transcendental functions"
      ]
    },
    {
      "cell_type": "markdown",
      "metadata": {
        "id": "Vd6oEJWn96Fn"
      },
      "source": [
        "ฟังก์ชันคณิตศาสตร์ ก็ element-wise"
      ]
    },
    {
      "cell_type": "code",
      "execution_count": null,
      "metadata": {
        "id": "jzxAEvrH96Fo"
      },
      "outputs": [],
      "source": [
        "a = torch.arange(5.)"
      ]
    },
    {
      "cell_type": "code",
      "execution_count": null,
      "metadata": {
        "id": "r3q_TSAS96Fo",
        "outputId": "9d671939-f3d2-4275-bf34-9eb5dfc83ddd"
      },
      "outputs": [
        {
          "data": {
            "text/plain": [
              "tensor([ 0.0000,  0.8415,  0.9093,  0.1411, -0.7568])"
            ]
          },
          "execution_count": 20,
          "metadata": {},
          "output_type": "execute_result"
        }
      ],
      "source": [
        "torch.sin(a)"
      ]
    },
    {
      "cell_type": "code",
      "execution_count": null,
      "metadata": {
        "id": "z-q8OMFm96Fo",
        "outputId": "671fe35b-e9ea-4c29-a346-7d4721920e69"
      },
      "outputs": [
        {
          "data": {
            "text/plain": [
              "tensor([  -inf, 0.0000, 0.6931, 1.0986, 1.3863])"
            ]
          },
          "execution_count": 21,
          "metadata": {},
          "output_type": "execute_result"
        }
      ],
      "source": [
        "torch.log(a)"
      ]
    },
    {
      "cell_type": "code",
      "execution_count": null,
      "metadata": {
        "id": "nDq2wRdR96Fo",
        "outputId": "3937ce9d-991a-404b-a2f7-98d931fa2c93"
      },
      "outputs": [
        {
          "data": {
            "text/plain": [
              "tensor([ 1.0000,  2.7183,  7.3891, 20.0855, 54.5981])"
            ]
          },
          "execution_count": 22,
          "metadata": {},
          "output_type": "execute_result"
        }
      ],
      "source": [
        "torch.exp(a)"
      ]
    },
    {
      "cell_type": "markdown",
      "metadata": {
        "id": "MftReKSe96Fp"
      },
      "source": [
        "# 2. Broadcasting"
      ]
    },
    {
      "cell_type": "markdown",
      "metadata": {
        "id": "Aa476IpK96Fq"
      },
      "source": [
        "ในกรณี 2 ฝั่งมีสมาชิกไม่เท่ากัน จะเกิดการ Broadcasting กระจายสมาชิกจาก 1 ให้กลายเป็นเท่ากัน ก่อนทำ Element-wise Operation\n",
        "\n",
        "ใน Numpy, TensorFlow และ Pytorch มิติแรก 0 จะเป็น Row มิติที่สอง 1 จะเป็น Column"
      ]
    },
    {
      "cell_type": "code",
      "execution_count": null,
      "metadata": {
        "id": "aSf5DvjU96Fq",
        "outputId": "1ff2cacd-f38d-4e64-fa2e-36f2f8889e6b"
      },
      "outputs": [
        {
          "data": {
            "text/plain": [
              "tensor([[ 0,  0,  0],\n",
              "        [10, 10, 10],\n",
              "        [20, 20, 20],\n",
              "        [30, 30, 30]])"
            ]
          },
          "execution_count": 23,
          "metadata": {},
          "output_type": "execute_result"
        }
      ],
      "source": [
        "a = torch.arange(0, 40, 10).repeat(1, 1, 3).view(3, 4).t()\n",
        "a"
      ]
    },
    {
      "cell_type": "markdown",
      "metadata": {
        "id": "7KgHDZM796Fq"
      },
      "source": [
        "## 2.1 Row Broadcasting"
      ]
    },
    {
      "cell_type": "markdown",
      "metadata": {
        "id": "l85sgc3g96Fq"
      },
      "source": [
        "กระจาย 1 Row เป็น 4 Row ก่อนบวก"
      ]
    },
    {
      "cell_type": "code",
      "execution_count": null,
      "metadata": {
        "id": "OXwD_lrk96Fq",
        "outputId": "0bc17a58-a06a-4b58-acf0-4e8d08379086"
      },
      "outputs": [
        {
          "data": {
            "text/plain": [
              "tensor([0, 1, 2])"
            ]
          },
          "execution_count": 24,
          "metadata": {},
          "output_type": "execute_result"
        }
      ],
      "source": [
        "b = tensor([0, 1, 2])\n",
        "b"
      ]
    },
    {
      "cell_type": "code",
      "execution_count": null,
      "metadata": {
        "scrolled": true,
        "id": "b7GnBrBX96Fr",
        "outputId": "d4e6cfd9-3e6b-445a-d1a5-d588e4bb688e"
      },
      "outputs": [
        {
          "data": {
            "text/plain": [
              "tensor([[ 0,  1,  2],\n",
              "        [10, 11, 12],\n",
              "        [20, 21, 22],\n",
              "        [30, 31, 32]])"
            ]
          },
          "execution_count": 25,
          "metadata": {},
          "output_type": "execute_result"
        }
      ],
      "source": [
        "a + b"
      ]
    },
    {
      "cell_type": "markdown",
      "metadata": {
        "id": "82yQvF3O96Fr"
      },
      "source": [
        "## 2.2 Column Broadcasting"
      ]
    },
    {
      "cell_type": "markdown",
      "metadata": {
        "id": "C7_mOzbG96Fr"
      },
      "source": [
        "กระจาย 1 Column เป็น 3 Column ก่อนบวก"
      ]
    },
    {
      "cell_type": "code",
      "execution_count": null,
      "metadata": {
        "id": "jxIIZuh996Fr",
        "outputId": "9fab6cfd-6b8b-4e29-ad2d-9cb7f001a9e8"
      },
      "outputs": [
        {
          "data": {
            "text/plain": [
              "tensor([[0],\n",
              "        [1],\n",
              "        [2],\n",
              "        [3]])"
            ]
          },
          "execution_count": 26,
          "metadata": {},
          "output_type": "execute_result"
        }
      ],
      "source": [
        "c = tensor([[0], [1], [2], [3]])\n",
        "c"
      ]
    },
    {
      "cell_type": "code",
      "execution_count": null,
      "metadata": {
        "scrolled": false,
        "id": "9B_eqeYi96Fr",
        "outputId": "b8a126a4-6a7c-4417-d92c-532512bf37c4"
      },
      "outputs": [
        {
          "data": {
            "text/plain": [
              "tensor([[ 0,  0,  0],\n",
              "        [11, 11, 11],\n",
              "        [22, 22, 22],\n",
              "        [33, 33, 33]])"
            ]
          },
          "execution_count": 27,
          "metadata": {},
          "output_type": "execute_result"
        }
      ],
      "source": [
        "a + c"
      ]
    },
    {
      "cell_type": "markdown",
      "metadata": {
        "id": "WIHfw4Rd96Fs"
      },
      "source": [
        "## 2.3 Row and Column Broadcasting"
      ]
    },
    {
      "cell_type": "code",
      "execution_count": null,
      "metadata": {
        "scrolled": true,
        "id": "bApIIX9P96Fs",
        "outputId": "289c8a25-e11e-488c-86cc-93c998a2f55c"
      },
      "outputs": [
        {
          "data": {
            "text/plain": [
              "tensor([2])"
            ]
          },
          "execution_count": 28,
          "metadata": {},
          "output_type": "execute_result"
        }
      ],
      "source": [
        "d = tensor([2])\n",
        "d"
      ]
    },
    {
      "cell_type": "markdown",
      "metadata": {
        "id": "xkqfK34j96Fs"
      },
      "source": [
        "กระจายเป็น 4 Row 3 Column ก่อนบวก"
      ]
    },
    {
      "cell_type": "code",
      "execution_count": null,
      "metadata": {
        "id": "QDigsIwy96Fs",
        "outputId": "6cd91214-29ac-4b30-e7ea-aa0c9a06cfa6"
      },
      "outputs": [
        {
          "data": {
            "text/plain": [
              "tensor([[ 2,  2,  2],\n",
              "        [12, 12, 12],\n",
              "        [22, 22, 22],\n",
              "        [32, 32, 32]])"
            ]
          },
          "execution_count": 29,
          "metadata": {},
          "output_type": "execute_result"
        }
      ],
      "source": [
        "a+d"
      ]
    },
    {
      "cell_type": "markdown",
      "metadata": {
        "id": "aos_1mGR96Fs"
      },
      "source": [
        "หมายเหตุ การ Broadcasting ไม่ได้จำกัดอยู่แค่ 2 มิติ เราสามารถ Broadcast ได้ในทุก ๆ มิติ เช่น broardcast มิติที่ 4 ใน tensor 5 มิติ เป็นต้น"
      ]
    },
    {
      "cell_type": "markdown",
      "metadata": {
        "id": "EHvBUFp596Ft"
      },
      "source": [
        "# 3. Indexing and Slicing"
      ]
    },
    {
      "cell_type": "code",
      "execution_count": null,
      "metadata": {
        "scrolled": false,
        "id": "67uz7IXZ96Ft",
        "outputId": "5bd806ec-2868-4b93-9d8b-c6cfd1faa099"
      },
      "outputs": [
        {
          "data": {
            "text/plain": [
              "tensor([[1., 1., 1., 1., 1.],\n",
              "        [1., 1., 1., 1., 1.],\n",
              "        [1., 1., 1., 1., 1.],\n",
              "        [1., 1., 1., 1., 1.]])"
            ]
          },
          "execution_count": 30,
          "metadata": {},
          "output_type": "execute_result"
        }
      ],
      "source": [
        "a = torch.ones((4, 5))\n",
        "a"
      ]
    },
    {
      "cell_type": "markdown",
      "metadata": {
        "id": "zzj-1ikQ96Ft"
      },
      "source": [
        "## 3.1 Indexing"
      ]
    },
    {
      "cell_type": "markdown",
      "metadata": {
        "id": "xjrBnfVV96Ft"
      },
      "source": [
        "Indexing คือ การเลือกเฉพาะ Row, Column ที่ต้องการขึ้นมา เช่น ให้ Row ที่ 0 เป็น ค่า 2\n",
        "\n",
        "*ไม่ได้ระบุมิติที่ 2 ให้ถือว่าเป็น : คือเอาทุก Column*"
      ]
    },
    {
      "cell_type": "code",
      "execution_count": null,
      "metadata": {
        "id": "fcGusP4x96Ft",
        "outputId": "6f7761d6-4e9d-4163-8475-5c2da874ce05"
      },
      "outputs": [
        {
          "data": {
            "text/plain": [
              "tensor([[2., 2., 2., 2., 2.],\n",
              "        [1., 1., 1., 1., 1.],\n",
              "        [1., 1., 1., 1., 1.],\n",
              "        [1., 1., 1., 1., 1.]])"
            ]
          },
          "execution_count": 31,
          "metadata": {},
          "output_type": "execute_result"
        }
      ],
      "source": [
        "a[0] = 2\n",
        "a"
      ]
    },
    {
      "cell_type": "markdown",
      "metadata": {
        "id": "8W7yWjuU96Fu"
      },
      "source": [
        "ให้ Column ที่ 1 (เริ่มต้นที่ 0) เป็น 3\n",
        "\n",
        "*หมายเหตุ : (เครื่องหมาย colon) แปลว่าทุกอัน ถ้าอยู่ตำแหน่งแรก แปลว่าทุก Row*"
      ]
    },
    {
      "cell_type": "code",
      "execution_count": null,
      "metadata": {
        "id": "Zxp0le9Y96Fu",
        "outputId": "cb6c3990-6d23-4d94-f517-5bc3df1abf7c"
      },
      "outputs": [
        {
          "data": {
            "text/plain": [
              "tensor([[2., 3., 2., 2., 2.],\n",
              "        [1., 3., 1., 1., 1.],\n",
              "        [1., 3., 1., 1., 1.],\n",
              "        [1., 3., 1., 1., 1.]])"
            ]
          },
          "execution_count": 32,
          "metadata": {},
          "output_type": "execute_result"
        }
      ],
      "source": [
        "a[:, 1] = 3\n",
        "a"
      ]
    },
    {
      "cell_type": "markdown",
      "metadata": {
        "id": "pekDqS4T96Fu"
      },
      "source": [
        "ให้ Column ที่ 1 จากสุดท้าย เป็น 4\n",
        "\n",
        "*Index ติดลบ แปลว่า นับจากท้ายสุด*"
      ]
    },
    {
      "cell_type": "code",
      "execution_count": null,
      "metadata": {
        "id": "2ZxChy-196Fu",
        "outputId": "316a6ad7-44bb-4b96-c918-9a47f3098e2a"
      },
      "outputs": [
        {
          "data": {
            "text/plain": [
              "tensor([[2., 3., 2., 2., 4.],\n",
              "        [1., 3., 1., 1., 4.],\n",
              "        [1., 3., 1., 1., 4.],\n",
              "        [1., 3., 1., 1., 4.]])"
            ]
          },
          "execution_count": 33,
          "metadata": {},
          "output_type": "execute_result"
        }
      ],
      "source": [
        "a[:, -1] = 4\n",
        "a"
      ]
    },
    {
      "cell_type": "markdown",
      "metadata": {
        "id": "IxYXZXwv96Fu"
      },
      "source": [
        "## 3.2 Slicing"
      ]
    },
    {
      "cell_type": "markdown",
      "metadata": {
        "id": "y7Mwwa1y96Fu"
      },
      "source": [
        "Slicing เลือกเอาช่วง Index ในลำดับที่ต้องการ"
      ]
    },
    {
      "cell_type": "code",
      "execution_count": null,
      "metadata": {
        "scrolled": true,
        "id": "LlwuTV2896Fv",
        "outputId": "1556857e-2fc9-4dc4-e72d-adcb591aa3d8"
      },
      "outputs": [
        {
          "data": {
            "text/plain": [
              "tensor([0, 1, 2, 3, 4, 5, 6, 7, 8, 9])"
            ]
          },
          "execution_count": 34,
          "metadata": {},
          "output_type": "execute_result"
        }
      ],
      "source": [
        "x = tensor([0, 1, 2, 3, 4, 5, 6, 7, 8, 9])\n",
        "x"
      ]
    },
    {
      "cell_type": "markdown",
      "metadata": {
        "id": "ZaeKpVIn96Fv"
      },
      "source": [
        "เริ่มที่ 3 ถึง 6 (ไม่รวม 6)"
      ]
    },
    {
      "cell_type": "code",
      "execution_count": null,
      "metadata": {
        "id": "5XFa4WrU96Fv",
        "outputId": "7128d91d-1adc-4bb1-f096-355eacf9716e"
      },
      "outputs": [
        {
          "data": {
            "text/plain": [
              "tensor([3, 4, 5])"
            ]
          },
          "execution_count": 35,
          "metadata": {},
          "output_type": "execute_result"
        }
      ],
      "source": [
        "x[3:6]"
      ]
    },
    {
      "cell_type": "markdown",
      "metadata": {
        "id": "uZvPsMVX96Fv"
      },
      "source": [
        "เริ่มที่ 1 ถึง 7 (ไม่รวม 7) ข้ามทีละ 2"
      ]
    },
    {
      "cell_type": "code",
      "execution_count": null,
      "metadata": {
        "id": "Y1SR97j896Fv",
        "outputId": "185712f7-9e10-43e4-bd94-84e3fb3b77ee"
      },
      "outputs": [
        {
          "data": {
            "text/plain": [
              "tensor([1, 3, 5])"
            ]
          },
          "execution_count": 36,
          "metadata": {},
          "output_type": "execute_result"
        }
      ],
      "source": [
        "x[1:7:2]"
      ]
    },
    {
      "cell_type": "markdown",
      "metadata": {
        "id": "Z8MAfjJs96Fw"
      },
      "source": [
        "เลือกอันดับ 2 จากสุดท้าย ถึง อันดับ 10 (ไม่รวม 10)"
      ]
    },
    {
      "cell_type": "code",
      "execution_count": null,
      "metadata": {
        "scrolled": true,
        "id": "Jvqmcev-96Fw",
        "outputId": "5e79b448-6527-4db0-c30a-437b132fd729"
      },
      "outputs": [
        {
          "data": {
            "text/plain": [
              "tensor([8, 9])"
            ]
          },
          "execution_count": 37,
          "metadata": {},
          "output_type": "execute_result"
        }
      ],
      "source": [
        "x[-2:10]"
      ]
    },
    {
      "cell_type": "markdown",
      "metadata": {
        "id": "trCunuWY96Fw"
      },
      "source": [
        "เลือกตั้งแต่ 5 เป็นต้นไป"
      ]
    },
    {
      "cell_type": "code",
      "execution_count": null,
      "metadata": {
        "id": "ZPH1Fz_296Fw",
        "outputId": "8ba5a912-10cc-442c-ddb9-1cb22dfe95fb"
      },
      "outputs": [
        {
          "data": {
            "text/plain": [
              "tensor([5, 6, 7, 8, 9])"
            ]
          },
          "execution_count": 38,
          "metadata": {},
          "output_type": "execute_result"
        }
      ],
      "source": [
        "x[5:]"
      ]
    },
    {
      "cell_type": "markdown",
      "metadata": {
        "id": "kYSZejMV96Fw"
      },
      "source": [
        "เลือกตั้งแต่ต้นจนถึง 5 (ไม่รวม 5)"
      ]
    },
    {
      "cell_type": "code",
      "execution_count": null,
      "metadata": {
        "id": "Vd2n5S_Z96Fw",
        "outputId": "2e9644c4-8b3b-4ca7-d72d-37b555fd48ee"
      },
      "outputs": [
        {
          "data": {
            "text/plain": [
              "tensor([0, 1, 2, 3, 4])"
            ]
          },
          "execution_count": 39,
          "metadata": {},
          "output_type": "execute_result"
        }
      ],
      "source": [
        "x[:5]"
      ]
    },
    {
      "cell_type": "markdown",
      "metadata": {
        "id": "lGXtxBsf96Fx"
      },
      "source": [
        "# 4. Summation"
      ]
    },
    {
      "cell_type": "markdown",
      "metadata": {
        "id": "miBy_EjC96Fx"
      },
      "source": [
        "การหาผลรวมของ Tensor เนื่องจาก Tensor มีหลายมิติ เราจึงต้องกำหนดว่า จะคิดตามมิติไหน ดังตัวอย่าง"
      ]
    },
    {
      "cell_type": "code",
      "execution_count": null,
      "metadata": {
        "scrolled": false,
        "id": "an6Ugild96Fx",
        "outputId": "cf3ff656-9f00-40e9-c9f4-00fe764915bd"
      },
      "outputs": [
        {
          "data": {
            "text/plain": [
              "tensor([[1, 1, 1],\n",
              "        [2, 2, 2],\n",
              "        [3, 3, 3]])"
            ]
          },
          "execution_count": 82,
          "metadata": {},
          "output_type": "execute_result"
        }
      ],
      "source": [
        "a = tensor([[1, 1, 1], [2, 2, 2], [3, 3, 3]])\n",
        "a"
      ]
    },
    {
      "cell_type": "markdown",
      "metadata": {
        "id": "5S-K_YZq96Fx"
      },
      "source": [
        "สมมติ a คือ Tensor 2 มิติ ขนาด 3 x 3"
      ]
    },
    {
      "cell_type": "code",
      "execution_count": null,
      "metadata": {
        "id": "3UvoBB2f96Fx",
        "outputId": "5e36ce34-6bba-44d2-a9ca-f10126409cd5"
      },
      "outputs": [
        {
          "data": {
            "text/plain": [
              "torch.Size([3, 3])"
            ]
          },
          "execution_count": 83,
          "metadata": {},
          "output_type": "execute_result"
        }
      ],
      "source": [
        "a.shape"
      ]
    },
    {
      "cell_type": "markdown",
      "metadata": {
        "id": "SEbwaTc396Fy"
      },
      "source": [
        "Sum ตามแนวมิติที่ 0 คือ Row"
      ]
    },
    {
      "cell_type": "code",
      "execution_count": null,
      "metadata": {
        "id": "DNNTuR2E96Fy",
        "outputId": "242fc7a2-5291-485a-b8f1-9dbbed9cfdec"
      },
      "outputs": [
        {
          "data": {
            "text/plain": [
              "tensor([6, 6, 6])"
            ]
          },
          "execution_count": 90,
          "metadata": {},
          "output_type": "execute_result"
        }
      ],
      "source": [
        "s = a.sum(0)\n",
        "s"
      ]
    },
    {
      "cell_type": "code",
      "execution_count": null,
      "metadata": {
        "id": "ki4DLfmq96Fy",
        "outputId": "ddb2e7ac-ccf7-48df-8ff6-6140dd9e78f0"
      },
      "outputs": [
        {
          "data": {
            "text/plain": [
              "torch.Size([3])"
            ]
          },
          "execution_count": 91,
          "metadata": {},
          "output_type": "execute_result"
        }
      ],
      "source": [
        "s.shape"
      ]
    },
    {
      "cell_type": "markdown",
      "metadata": {
        "id": "YUir9hc296Fy"
      },
      "source": [
        "Sum ตามแนวมิติที่ 1 คือ Column"
      ]
    },
    {
      "cell_type": "code",
      "execution_count": null,
      "metadata": {
        "id": "KsKvD5v-96Fy",
        "outputId": "d03e5b5a-8f1f-424e-e367-a13e444013bb"
      },
      "outputs": [
        {
          "data": {
            "text/plain": [
              "tensor([3, 6, 9])"
            ]
          },
          "execution_count": 92,
          "metadata": {},
          "output_type": "execute_result"
        }
      ],
      "source": [
        "s = a.sum(1)\n",
        "s"
      ]
    },
    {
      "cell_type": "code",
      "execution_count": null,
      "metadata": {
        "id": "msL5pdxm96Fz",
        "outputId": "51bea141-1646-456e-de40-e7688d278b90"
      },
      "outputs": [
        {
          "data": {
            "text/plain": [
              "torch.Size([3])"
            ]
          },
          "execution_count": 93,
          "metadata": {},
          "output_type": "execute_result"
        }
      ],
      "source": [
        "s.shape"
      ]
    },
    {
      "cell_type": "markdown",
      "metadata": {
        "id": "ey4WGcDn96Fz"
      },
      "source": [
        "เมื่อมีการ Sum มิตินั้นจะหายไป ทำให้ Tensor 2 มิติ กลายเป็น Tensor 1 มิติ หรือ Vector ถ้าเราต้องการให้มิติคงเดิม ให้เราใส่ keepdim=True"
      ]
    },
    {
      "cell_type": "code",
      "execution_count": null,
      "metadata": {
        "id": "38SyOSV096Fz",
        "outputId": "d7dad508-f299-4b38-a8d9-7205a4501bba"
      },
      "outputs": [
        {
          "data": {
            "text/plain": [
              "tensor([[6, 6, 6]])"
            ]
          },
          "execution_count": 86,
          "metadata": {},
          "output_type": "execute_result"
        }
      ],
      "source": [
        "s = a.sum(0, keepdim=True)\n",
        "s"
      ]
    },
    {
      "cell_type": "code",
      "execution_count": null,
      "metadata": {
        "id": "aXbTA1ww96Fz",
        "outputId": "b407284e-3eb2-4310-a48d-89967ec12723"
      },
      "outputs": [
        {
          "data": {
            "text/plain": [
              "torch.Size([1, 3])"
            ]
          },
          "execution_count": 87,
          "metadata": {},
          "output_type": "execute_result"
        }
      ],
      "source": [
        "s.shape"
      ]
    },
    {
      "cell_type": "code",
      "execution_count": null,
      "metadata": {
        "scrolled": true,
        "id": "fJ6d34xZ96Fz",
        "outputId": "2f0389ad-dd97-491d-bb85-f3069ed0503a"
      },
      "outputs": [
        {
          "data": {
            "text/plain": [
              "tensor([[3],\n",
              "        [6],\n",
              "        [9]])"
            ]
          },
          "execution_count": 88,
          "metadata": {},
          "output_type": "execute_result"
        }
      ],
      "source": [
        "s = a.sum(1, keepdim=True)\n",
        "s"
      ]
    },
    {
      "cell_type": "code",
      "execution_count": null,
      "metadata": {
        "id": "8ZRz8WAf96F0",
        "outputId": "987ff48a-18b7-4f2a-c36e-ff328af03c0c"
      },
      "outputs": [
        {
          "data": {
            "text/plain": [
              "torch.Size([3, 1])"
            ]
          },
          "execution_count": 89,
          "metadata": {},
          "output_type": "execute_result"
        }
      ],
      "source": [
        "s.shape"
      ]
    },
    {
      "cell_type": "markdown",
      "metadata": {
        "id": "iath32Xu96F0"
      },
      "source": [
        "Sum มิติท้ายสุด"
      ]
    },
    {
      "cell_type": "code",
      "execution_count": null,
      "metadata": {
        "id": "yp5qCV-t96F0",
        "outputId": "32c26d24-c59b-4a93-fba7-c600b184f151"
      },
      "outputs": [
        {
          "data": {
            "text/plain": [
              "tensor([3, 6, 9])"
            ]
          },
          "execution_count": 79,
          "metadata": {},
          "output_type": "execute_result"
        }
      ],
      "source": [
        "a.sum(-1)"
      ]
    },
    {
      "cell_type": "markdown",
      "metadata": {
        "id": "b8sAROCx96F0"
      },
      "source": [
        "*มิติ ติดลบ แปลว่า นับจากท้ายสุด*"
      ]
    },
    {
      "cell_type": "markdown",
      "metadata": {
        "id": "F5zAOteE96F0"
      },
      "source": [
        "# Credit"
      ]
    },
    {
      "cell_type": "markdown",
      "metadata": {
        "id": "hHEzgQ__96F0"
      },
      "source": [
        "* http://scipy-lectures.org/intro/numpy/operations.html\n",
        "* https://docs.scipy.org/doc/numpy/reference/arrays.indexing.html\n",
        "* https://course.fast.ai/videos/?lesson=8"
      ]
    },
    {
      "cell_type": "code",
      "execution_count": null,
      "metadata": {
        "id": "onDMUFhX96F1"
      },
      "outputs": [],
      "source": []
    }
  ],
  "metadata": {
    "kernelspec": {
      "display_name": "Python 3",
      "language": "python",
      "name": "python3"
    },
    "language_info": {
      "codemirror_mode": {
        "name": "ipython",
        "version": 3
      },
      "file_extension": ".py",
      "mimetype": "text/x-python",
      "name": "python",
      "nbconvert_exporter": "python",
      "pygments_lexer": "ipython3",
      "version": "3.7.3"
    },
    "colab": {
      "provenance": []
    }
  },
  "nbformat": 4,
  "nbformat_minor": 0
}